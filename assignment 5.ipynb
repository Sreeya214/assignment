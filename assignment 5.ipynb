{
 "cells": [
  {
   "cell_type": "code",
   "execution_count": 6,
   "metadata": {},
   "outputs": [
    {
     "name": "stdout",
     "output_type": "stream",
     "text": [
      "enter radius 45\n",
      "Area is 6362.55\n"
     ]
    }
   ],
   "source": [
    "import math\n",
    "r=int(input(\"enter radius \"))\n",
    "pi=3.142\n",
    "A=pi*(r*r)\n",
    "print(\"Area is\", A)   "
   ]
  },
  {
   "cell_type": "code",
   "execution_count": 8,
   "metadata": {},
   "outputs": [
    {
     "name": "stdout",
     "output_type": "stream",
     "text": [
      "enter value54\n",
      "enter value65\n",
      "area is 1755.0\n"
     ]
    }
   ],
   "source": [
    "import math\n",
    "a=int(input(\"enter value\"))\n",
    "p=int(input(\"enter value\"))\n",
    "A=(a*p)/2\n",
    "print(\"area is\",A)"
   ]
  },
  {
   "cell_type": "code",
   "execution_count": 27,
   "metadata": {},
   "outputs": [
    {
     "ename": "SyntaxError",
     "evalue": "invalid syntax (<ipython-input-27-d4d613b76da8>, line 5)",
     "output_type": "error",
     "traceback": [
      "\u001b[1;36m  File \u001b[1;32m\"<ipython-input-27-d4d613b76da8>\"\u001b[1;36m, line \u001b[1;32m5\u001b[0m\n\u001b[1;33m    print(\"area is\",A)\u001b[0m\n\u001b[1;37m    ^\u001b[0m\n\u001b[1;31mSyntaxError\u001b[0m\u001b[1;31m:\u001b[0m invalid syntax\n"
     ]
    }
   ],
   "source": [
    "import math\n",
    "r=10\n",
    "θ=90\n",
    "A = (r*r(math(Sin(θ))/2)\n",
    "    print(\"area is\",A)"
   ]
  },
  {
   "cell_type": "code",
   "execution_count": 19,
   "metadata": {},
   "outputs": [
    {
     "name": "stdout",
     "output_type": "stream",
     "text": [
      "-0.3048106211022167\n",
      "-0.9999999170344522\n",
      "-1.995200412208242\n",
      "0.7617599814162892\n",
      "20.0\n",
      "10.0\n",
      "3.0102999566398116\n"
     ]
    }
   ],
   "source": [
    "print(math.sin(60))\n",
    "print(math.cos(pi))\n",
    "print(math.tan(90))\n",
    "print(math.sin(0.8660254037844386))\n",
    "print(math.sqrt(400))\n",
    "print(math.log(1024,2))\n",
    "print(math.log(1024,10))"
   ]
  },
  {
   "cell_type": "code",
   "execution_count": null,
   "metadata": {},
   "outputs": [],
   "source": []
  }
 ],
 "metadata": {
  "kernelspec": {
   "display_name": "Python 3",
   "language": "python",
   "name": "python3"
  },
  "language_info": {
   "codemirror_mode": {
    "name": "ipython",
    "version": 3
   },
   "file_extension": ".py",
   "mimetype": "text/x-python",
   "name": "python",
   "nbconvert_exporter": "python",
   "pygments_lexer": "ipython3",
   "version": "3.8.3"
  }
 },
 "nbformat": 4,
 "nbformat_minor": 4
}
