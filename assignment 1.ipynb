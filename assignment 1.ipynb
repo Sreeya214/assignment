{
 "cells": [
  {
   "cell_type": "code",
   "execution_count": 8,
   "metadata": {},
   "outputs": [
    {
     "name": "stdout",
     "output_type": "stream",
     "text": [
      "enter value of a23\n",
      "enter value of b65\n",
      "88\n"
     ]
    }
   ],
   "source": [
    "a=int(input(\"enter value of a\"))   #additon  \n",
    "b=int(input(\"enter value of b\"))\n",
    "c=a+b\n",
    "print(c)"
   ]
  },
  {
   "cell_type": "code",
   "execution_count": 9,
   "metadata": {},
   "outputs": [
    {
     "name": "stdout",
     "output_type": "stream",
     "text": [
      "enter value of a74\n",
      "enter value of b57\n",
      "17\n"
     ]
    }
   ],
   "source": [
    "a=int(input(\"enter value of a\"))   #subraction  \n",
    "b=int(input(\"enter value of b\"))\n",
    "c=a-b\n",
    "print(c)"
   ]
  },
  {
   "cell_type": "code",
   "execution_count": 13,
   "metadata": {},
   "outputs": [
    {
     "name": "stdout",
     "output_type": "stream",
     "text": [
      "enter value of a45\n",
      "enter value of b4\n",
      "180\n"
     ]
    }
   ],
   "source": [
    "a=int(input(\"enter value of a\"))   #multiplication\n",
    "b=int(input(\"enter value of b\"))     \n",
    "c=a*b\n",
    "print(c)"
   ]
  },
  {
   "cell_type": "code",
   "execution_count": 4,
   "metadata": {},
   "outputs": [
    {
     "name": "stdout",
     "output_type": "stream",
     "text": [
      "enter value45\n",
      "enter value4\n",
      "11.25\n"
     ]
    }
   ],
   "source": [
    "a=int(input(\"enter value of a\"))     #division\n",
    "b=int(input(\"enter value of b \"))\n",
    "c=a/b\n",
    "print(c)"
   ]
  },
  {
   "cell_type": "code",
   "execution_count": 5,
   "metadata": {},
   "outputs": [
    {
     "name": "stdout",
     "output_type": "stream",
     "text": [
      "enter value34\n",
      "enter value3\n",
      "1\n"
     ]
    }
   ],
   "source": [
    "a=int(input(\"enter value of a\"))    #modulous\n",
    "b=int(input(\"enter value of b\"))\n",
    "c=a%b\n",
    "print(c)"
   ]
  },
  {
   "cell_type": "code",
   "execution_count": 6,
   "metadata": {},
   "outputs": [
    {
     "name": "stdout",
     "output_type": "stream",
     "text": [
      "enter value45\n",
      "enter value2\n",
      "2025\n"
     ]
    }
   ],
   "source": [
    "a=int(input(\"enter value of a\"))    #exponent\n",
    "b=int(input(\"enter value of b\"))\n",
    "c=a**b\n",
    "print(c)"
   ]
  },
  {
   "cell_type": "code",
   "execution_count": 7,
   "metadata": {},
   "outputs": [
    {
     "name": "stdout",
     "output_type": "stream",
     "text": [
      "enter value43\n",
      "enter value6\n",
      "7\n"
     ]
    }
   ],
   "source": [
    "a=int(input(\"enter value of a\"))      #floor division\n",
    "b=int(input(\"enter value of b\"))\n",
    "c=a//b\n",
    "print(c)"
   ]
  },
  {
   "cell_type": "code",
   "execution_count": 17,
   "metadata": {},
   "outputs": [
    {
     "name": "stdout",
     "output_type": "stream",
     "text": [
      "518.42\n"
     ]
    }
   ],
   "source": [
    "p=46               #simple interest\n",
    "t=23\n",
    "r=49\n",
    "si=(p*t*r)/100\n",
    "print(si)"
   ]
  },
  {
   "cell_type": "code",
   "execution_count": 18,
   "metadata": {},
   "outputs": [
    {
     "name": "stdout",
     "output_type": "stream",
     "text": [
      "1808.6399999999999\n"
     ]
    }
   ],
   "source": [
    "r=24        #area of circle\n",
    "pi=3.14\n",
    "A=pi*r*r\n",
    "print(A)"
   ]
  },
  {
   "cell_type": "code",
   "execution_count": 19,
   "metadata": {},
   "outputs": [
    {
     "name": "stdout",
     "output_type": "stream",
     "text": [
      "28.0\n"
     ]
    }
   ],
   "source": [
    "b=14             #area of triangle\n",
    "h=4\n",
    "A=0.5*b*h\n",
    "print(A)\n"
   ]
  },
  {
   "cell_type": "code",
   "execution_count": 21,
   "metadata": {},
   "outputs": [
    {
     "name": "stdout",
     "output_type": "stream",
     "text": [
      "89.6\n"
     ]
    }
   ],
   "source": [
    "c=32           #to convrt celcius to fahreinheit\n",
    "F=((c*1.8)+32)\n",
    "print(F)"
   ]
  },
  {
   "cell_type": "code",
   "execution_count": 22,
   "metadata": {},
   "outputs": [
    {
     "name": "stdout",
     "output_type": "stream",
     "text": [
      "215\n"
     ]
    }
   ],
   "source": [
    "l=5              #area of rectangle\n",
    "b=43\n",
    "A=l*b\n",
    "print(A)"
   ]
  },
  {
   "cell_type": "code",
   "execution_count": 24,
   "metadata": {},
   "outputs": [
    {
     "name": "stdout",
     "output_type": "stream",
     "text": [
      "32\n"
     ]
    }
   ],
   "source": [
    "a=8             #perimeter of square\n",
    "perimeter=4*a\n",
    "print(perimeter)"
   ]
  },
  {
   "cell_type": "code",
   "execution_count": 25,
   "metadata": {},
   "outputs": [
    {
     "name": "stdout",
     "output_type": "stream",
     "text": [
      "282.6\n"
     ]
    }
   ],
   "source": [
    "r=45              #circumference of circle\n",
    "pi=3.14\n",
    "circumference=2*pi*r\n",
    "print(circumference)"
   ]
  },
  {
   "cell_type": "code",
   "execution_count": 26,
   "metadata": {},
   "outputs": [
    {
     "name": "stdout",
     "output_type": "stream",
     "text": [
      "7 5\n"
     ]
    }
   ],
   "source": [
    "a=5         #swapping of two numbers\n",
    "b=7\n",
    "temp=a\n",
    "a=b\n",
    "b=temp\n",
    "print(a,b)"
   ]
  },
  {
   "cell_type": "code",
   "execution_count": null,
   "metadata": {},
   "outputs": [],
   "source": []
  }
 ],
 "metadata": {
  "kernelspec": {
   "display_name": "Python 3",
   "language": "python",
   "name": "python3"
  },
  "language_info": {
   "codemirror_mode": {
    "name": "ipython",
    "version": 3
   },
   "file_extension": ".py",
   "mimetype": "text/x-python",
   "name": "python",
   "nbconvert_exporter": "python",
   "pygments_lexer": "ipython3",
   "version": "3.8.3"
  }
 },
 "nbformat": 4,
 "nbformat_minor": 4
}
