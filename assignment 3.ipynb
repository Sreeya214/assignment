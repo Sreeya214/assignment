{
 "cells": [
  {
   "cell_type": "code",
   "execution_count": 1,
   "metadata": {},
   "outputs": [
    {
     "name": "stdout",
     "output_type": "stream",
     "text": [
      "eligible for voting\n"
     ]
    }
   ],
   "source": [
    "x=45\n",
    "if x>=18:\n",
    "    print(\"eligible for voting\")\n",
    "else:\n",
    "    print(\"not eligible for voting\")"
   ]
  },
  {
   "cell_type": "code",
   "execution_count": 2,
   "metadata": {},
   "outputs": [
    {
     "name": "stdout",
     "output_type": "stream",
     "text": [
      "it is odd\n"
     ]
    }
   ],
   "source": [
    "n=2564587\n",
    "if n%2==0 :\n",
    "    print(\"it is even\")\n",
    "else :\n",
    "    print(\"it is odd\")"
   ]
  },
  {
   "cell_type": "code",
   "execution_count": 9,
   "metadata": {},
   "outputs": [
    {
     "name": "stdout",
     "output_type": "stream",
     "text": [
      "it is prime number\n"
     ]
    }
   ],
   "source": [
    "i=76\n",
    "if n>1:\n",
    "    if n%i==0:\n",
    "        print(\"it is not prime number\")\n",
    "    else:\n",
    "        print(\"it is prime number\")"
   ]
  },
  {
   "cell_type": "code",
   "execution_count": 4,
   "metadata": {},
   "outputs": [
    {
     "name": "stdout",
     "output_type": "stream",
     "text": [
      "it is not positive\n"
     ]
    }
   ],
   "source": [
    "n=-5\n",
    "if n>0:\n",
    "    print (\"it is positive\")\n",
    "else:\n",
    "    print(\"it is not positive\")"
   ]
  },
  {
   "cell_type": "code",
   "execution_count": 8,
   "metadata": {},
   "outputs": [
    {
     "name": "stdout",
     "output_type": "stream",
     "text": [
      "a=56\n",
      "b=45\n",
      "c=35\n",
      "delta= -47.0\n",
      "-0.4017857142857143 +i 0.6808584579748704\n",
      "-0.4017857142857143 -i 0.6808584579748704\n"
     ]
    }
   ],
   "source": [
    "import math\n",
    "a=float(input(\"a=\"))\n",
    "b=float(input(\"b=\"))\n",
    "c=float(input(\"c=\"))\n",
    "d=b*b-4*a*c\n",
    "print(\"delta=\",delta)\n",
    "if d==0: \n",
    "    x1=(-b+math.sqrt(delta))/(2*a)\n",
    "    x2=(-b-math.sqrt(delta))/(2*a)\n",
    "    print(\"x1=\",x1,\"x2=\",x2)\n",
    "elif d==0:\n",
    "    x=-b/(2*a)\n",
    "    print(\"x1=x2=\",x)\n",
    "else:\n",
    "    realpart=-b/(2*a)\n",
    "    imagpart=math.sqrt(-d)/(2*a)\n",
    "    print(realpart,\"+i\",imagpart)\n",
    "    print(realpart,\"-i\",imagpart)"
   ]
  },
  {
   "cell_type": "code",
   "execution_count": 12,
   "metadata": {},
   "outputs": [
    {
     "name": "stdout",
     "output_type": "stream",
     "text": [
      "Enter a number: 45\n",
      "Positive number\n"
     ]
    }
   ],
   "source": [
    "n=int(input(\"Enter a number: \"))\n",
    "if n>0:\n",
    "    print(\"Positive number\")\n",
    "elif n==0:\n",
    "    print(\"Zero\")\n",
    "else:\n",
    "    print(\"Negative number\")\n"
   ]
  },
  {
   "cell_type": "code",
   "execution_count": 17,
   "metadata": {},
   "outputs": [
    {
     "name": "stdout",
     "output_type": "stream",
     "text": [
      "enter a number between 1-5=4\n",
      "four\n"
     ]
    }
   ],
   "source": [
    "n=int(input(\"enter a number between 1-5=\"))\n",
    "if(n<=5 and n>0):\n",
    "    if n==1:\n",
    "        print(\"one\")\n",
    "    elif n==2:\n",
    "        print(\"two\")\n",
    "    elif n==3:\n",
    "        print(\"three\")\n",
    "    elif n==4:\n",
    "        print(\"four\")\n",
    "    elif n==5:\n",
    "        print(\"five\")\n",
    "    else:\n",
    "        print(\"the given number is not between 1 to 5 \")"
   ]
  },
  {
   "cell_type": "code",
   "execution_count": 18,
   "metadata": {},
   "outputs": [
    {
     "name": "stdout",
     "output_type": "stream",
     "text": [
      "Enter a character: a\n",
      "a is a Vowel\n"
     ]
    }
   ],
   "source": [
    "ch = input(\"Enter a character: \")\n",
    "\n",
    "if(ch=='A' or ch=='a' or ch=='E' or ch =='e' or ch=='I'\n",
    " or ch=='i' or ch=='O' or ch=='o' or ch=='U' or ch=='u'):\n",
    "    print(ch, \"is a Vowel\")\n",
    "else:\n",
    "    print(ch, \"is a Consonant\")"
   ]
  }
 ],
 "metadata": {
  "kernelspec": {
   "display_name": "Python 3",
   "language": "python",
   "name": "python3"
  },
  "language_info": {
   "codemirror_mode": {
    "name": "ipython",
    "version": 3
   },
   "file_extension": ".py",
   "mimetype": "text/x-python",
   "name": "python",
   "nbconvert_exporter": "python",
   "pygments_lexer": "ipython3",
   "version": "3.8.3"
  }
 },
 "nbformat": 4,
 "nbformat_minor": 4
}
