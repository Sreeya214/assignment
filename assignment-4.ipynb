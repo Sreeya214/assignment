{
 "cells": [
  {
   "cell_type": "code",
   "execution_count": 7,
   "metadata": {},
   "outputs": [
    {
     "name": "stdout",
     "output_type": "stream",
     "text": [
      "Enter first number35\n",
      "Enter second number78\n",
      "Enter third number567\n",
      "The largest number is 567\n"
     ]
    }
   ],
   "source": [
    "#to find the largest number\n",
    "n1=int(input(\"Enter first number\"))            \n",
    "n2=int(input(\"Enter second number\"))\n",
    "n3=int(input(\"Enter third number\"))\n",
    "if (n1>n2)and(n1>n3):\n",
    "    largest=n1\n",
    "elif (n2>n1) and (n2>n3):\n",
    "    largest=n2\n",
    "else:\n",
    "    largest=n3\n",
    "print(\"The largest number is\",largest)"
   ]
  },
  {
   "cell_type": "code",
   "execution_count": 1,
   "metadata": {},
   "outputs": [
    {
     "name": "stdout",
     "output_type": "stream",
     "text": [
      "enter a number4\n",
      "4 is not a prime number\n"
     ]
    }
   ],
   "source": [
    "#prime number or not\n",
    "n=int(input(\"enter a number\"))\n",
    "if n>1: \n",
    "    if(n%i)==0: \n",
    "        print(n,\"is not a prime number\") \n",
    "        break\n",
    "    else: \n",
    "            print(n,\"is a prime number\") \n",
    "  \n",
    "    else: \n",
    "        print(n,\"is not a prime number\") \n"
   ]
  },
  {
   "cell_type": "code",
   "execution_count": 10,
   "metadata": {},
   "outputs": [
    {
     "name": "stdout",
     "output_type": "stream",
     "text": [
      "the original string is: sreeya\n",
      "the reverse string is: ayeers\n"
     ]
    }
   ],
   "source": [
    "#to reverse a string\n",
    "def reverse(s):\n",
    "    if len(s)==0:\n",
    "        return s\n",
    "    else:\n",
    "        return reverse(s[1:])+s[0]\n",
    "s=\"sreeya\"\n",
    "print(\"the original string is:\",s)\n",
    "print(\"the reverse string is:\",reverse(s))"
   ]
  },
  {
   "cell_type": "code",
   "execution_count": 12,
   "metadata": {},
   "outputs": [
    {
     "name": "stdout",
     "output_type": "stream",
     "text": [
      "91\n"
     ]
    }
   ],
   "source": [
    "#sum of square of first n natural numbers\n",
    "def squaresum(n) : \n",
    "    sm=0\n",
    "    for i in range(1, n+1) : \n",
    "        sm = sm + (i * i) \n",
    "    return sm \n",
    "n=6\n",
    "print(squaresum(n)) "
   ]
  },
  {
   "cell_type": "code",
   "execution_count": null,
   "metadata": {},
   "outputs": [],
   "source": []
  }
 ],
 "metadata": {
  "kernelspec": {
   "display_name": "Python 3",
   "language": "python",
   "name": "python3"
  },
  "language_info": {
   "codemirror_mode": {
    "name": "ipython",
    "version": 3
   },
   "file_extension": ".py",
   "mimetype": "text/x-python",
   "name": "python",
   "nbconvert_exporter": "python",
   "pygments_lexer": "ipython3",
   "version": "3.8.3"
  }
 },
 "nbformat": 4,
 "nbformat_minor": 4
}
